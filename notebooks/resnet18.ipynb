{
 "cells": [
  {
   "cell_type": "code",
   "execution_count": 1,
   "metadata": {},
   "outputs": [
    {
     "data": {
      "text/plain": [
       "'cuda'"
      ]
     },
     "execution_count": 1,
     "metadata": {},
     "output_type": "execute_result"
    }
   ],
   "source": [
    "import torch\n",
    "from torch import nn\n",
    "import torch\n",
    "import numpy as np\n",
    "from torch.utils.data import DataLoader\n",
    "from torchvision import datasets, transforms\n",
    "from torch.utils.data import DataLoader\n",
    "from torchvision.models import resnet18\n",
    "from torchvision.models import ResNet18_Weights\n",
    "\n",
    "resnet18_model = resnet18(weights=ResNet18_Weights.IMAGENET1K_V1)\n",
    "device = 'cuda' if torch.cuda.is_available() else 'cpu'\n",
    "device"
   ]
  },
  {
   "cell_type": "code",
   "execution_count": 2,
   "metadata": {},
   "outputs": [
    {
     "data": {
      "text/plain": [
       "ResNet(\n",
       "  (conv1): Conv2d(3, 64, kernel_size=(7, 7), stride=(2, 2), padding=(3, 3), bias=False)\n",
       "  (bn1): BatchNorm2d(64, eps=1e-05, momentum=0.1, affine=True, track_running_stats=True)\n",
       "  (relu): ReLU(inplace=True)\n",
       "  (maxpool): MaxPool2d(kernel_size=3, stride=2, padding=1, dilation=1, ceil_mode=False)\n",
       "  (layer1): Sequential(\n",
       "    (0): BasicBlock(\n",
       "      (conv1): Conv2d(64, 64, kernel_size=(3, 3), stride=(1, 1), padding=(1, 1), bias=False)\n",
       "      (bn1): BatchNorm2d(64, eps=1e-05, momentum=0.1, affine=True, track_running_stats=True)\n",
       "      (relu): ReLU(inplace=True)\n",
       "      (conv2): Conv2d(64, 64, kernel_size=(3, 3), stride=(1, 1), padding=(1, 1), bias=False)\n",
       "      (bn2): BatchNorm2d(64, eps=1e-05, momentum=0.1, affine=True, track_running_stats=True)\n",
       "    )\n",
       "    (1): BasicBlock(\n",
       "      (conv1): Conv2d(64, 64, kernel_size=(3, 3), stride=(1, 1), padding=(1, 1), bias=False)\n",
       "      (bn1): BatchNorm2d(64, eps=1e-05, momentum=0.1, affine=True, track_running_stats=True)\n",
       "      (relu): ReLU(inplace=True)\n",
       "      (conv2): Conv2d(64, 64, kernel_size=(3, 3), stride=(1, 1), padding=(1, 1), bias=False)\n",
       "      (bn2): BatchNorm2d(64, eps=1e-05, momentum=0.1, affine=True, track_running_stats=True)\n",
       "    )\n",
       "  )\n",
       "  (layer2): Sequential(\n",
       "    (0): BasicBlock(\n",
       "      (conv1): Conv2d(64, 128, kernel_size=(3, 3), stride=(2, 2), padding=(1, 1), bias=False)\n",
       "      (bn1): BatchNorm2d(128, eps=1e-05, momentum=0.1, affine=True, track_running_stats=True)\n",
       "      (relu): ReLU(inplace=True)\n",
       "      (conv2): Conv2d(128, 128, kernel_size=(3, 3), stride=(1, 1), padding=(1, 1), bias=False)\n",
       "      (bn2): BatchNorm2d(128, eps=1e-05, momentum=0.1, affine=True, track_running_stats=True)\n",
       "      (downsample): Sequential(\n",
       "        (0): Conv2d(64, 128, kernel_size=(1, 1), stride=(2, 2), bias=False)\n",
       "        (1): BatchNorm2d(128, eps=1e-05, momentum=0.1, affine=True, track_running_stats=True)\n",
       "      )\n",
       "    )\n",
       "    (1): BasicBlock(\n",
       "      (conv1): Conv2d(128, 128, kernel_size=(3, 3), stride=(1, 1), padding=(1, 1), bias=False)\n",
       "      (bn1): BatchNorm2d(128, eps=1e-05, momentum=0.1, affine=True, track_running_stats=True)\n",
       "      (relu): ReLU(inplace=True)\n",
       "      (conv2): Conv2d(128, 128, kernel_size=(3, 3), stride=(1, 1), padding=(1, 1), bias=False)\n",
       "      (bn2): BatchNorm2d(128, eps=1e-05, momentum=0.1, affine=True, track_running_stats=True)\n",
       "    )\n",
       "  )\n",
       "  (layer3): Sequential(\n",
       "    (0): BasicBlock(\n",
       "      (conv1): Conv2d(128, 256, kernel_size=(3, 3), stride=(2, 2), padding=(1, 1), bias=False)\n",
       "      (bn1): BatchNorm2d(256, eps=1e-05, momentum=0.1, affine=True, track_running_stats=True)\n",
       "      (relu): ReLU(inplace=True)\n",
       "      (conv2): Conv2d(256, 256, kernel_size=(3, 3), stride=(1, 1), padding=(1, 1), bias=False)\n",
       "      (bn2): BatchNorm2d(256, eps=1e-05, momentum=0.1, affine=True, track_running_stats=True)\n",
       "      (downsample): Sequential(\n",
       "        (0): Conv2d(128, 256, kernel_size=(1, 1), stride=(2, 2), bias=False)\n",
       "        (1): BatchNorm2d(256, eps=1e-05, momentum=0.1, affine=True, track_running_stats=True)\n",
       "      )\n",
       "    )\n",
       "    (1): BasicBlock(\n",
       "      (conv1): Conv2d(256, 256, kernel_size=(3, 3), stride=(1, 1), padding=(1, 1), bias=False)\n",
       "      (bn1): BatchNorm2d(256, eps=1e-05, momentum=0.1, affine=True, track_running_stats=True)\n",
       "      (relu): ReLU(inplace=True)\n",
       "      (conv2): Conv2d(256, 256, kernel_size=(3, 3), stride=(1, 1), padding=(1, 1), bias=False)\n",
       "      (bn2): BatchNorm2d(256, eps=1e-05, momentum=0.1, affine=True, track_running_stats=True)\n",
       "    )\n",
       "  )\n",
       "  (layer4): Sequential(\n",
       "    (0): BasicBlock(\n",
       "      (conv1): Conv2d(256, 512, kernel_size=(3, 3), stride=(2, 2), padding=(1, 1), bias=False)\n",
       "      (bn1): BatchNorm2d(512, eps=1e-05, momentum=0.1, affine=True, track_running_stats=True)\n",
       "      (relu): ReLU(inplace=True)\n",
       "      (conv2): Conv2d(512, 512, kernel_size=(3, 3), stride=(1, 1), padding=(1, 1), bias=False)\n",
       "      (bn2): BatchNorm2d(512, eps=1e-05, momentum=0.1, affine=True, track_running_stats=True)\n",
       "      (downsample): Sequential(\n",
       "        (0): Conv2d(256, 512, kernel_size=(1, 1), stride=(2, 2), bias=False)\n",
       "        (1): BatchNorm2d(512, eps=1e-05, momentum=0.1, affine=True, track_running_stats=True)\n",
       "      )\n",
       "    )\n",
       "    (1): BasicBlock(\n",
       "      (conv1): Conv2d(512, 512, kernel_size=(3, 3), stride=(1, 1), padding=(1, 1), bias=False)\n",
       "      (bn1): BatchNorm2d(512, eps=1e-05, momentum=0.1, affine=True, track_running_stats=True)\n",
       "      (relu): ReLU(inplace=True)\n",
       "      (conv2): Conv2d(512, 512, kernel_size=(3, 3), stride=(1, 1), padding=(1, 1), bias=False)\n",
       "      (bn2): BatchNorm2d(512, eps=1e-05, momentum=0.1, affine=True, track_running_stats=True)\n",
       "    )\n",
       "  )\n",
       "  (avgpool): AdaptiveAvgPool2d(output_size=(1, 1))\n",
       "  (fc): Linear(in_features=512, out_features=1000, bias=True)\n",
       ")"
      ]
     },
     "execution_count": 2,
     "metadata": {},
     "output_type": "execute_result"
    }
   ],
   "source": [
    "resnet18_model"
   ]
  },
  {
   "cell_type": "code",
   "execution_count": 3,
   "metadata": {},
   "outputs": [],
   "source": [
    "data_transform = transforms.Compose([\n",
    "    transforms.Resize(size=(224, 224)),\n",
    "     transforms.RandomHorizontalFlip(p=0.7),\n",
    "    transforms.RandomRotation(10),\n",
    "    transforms.ToTensor(),\n",
    " \n",
    "\n",
    "]) "
   ]
  },
  {
   "cell_type": "code",
   "execution_count": 4,
   "metadata": {},
   "outputs": [
    {
     "data": {
      "text/plain": [
       "(Dataset ImageFolder\n",
       "     Number of datapoints: 613\n",
       "     Root location: ../data/curated/train\n",
       "     StandardTransform\n",
       " Transform: Compose(\n",
       "                Resize(size=(224, 224), interpolation=bilinear, max_size=None, antialias=True)\n",
       "                RandomHorizontalFlip(p=0.7)\n",
       "                RandomRotation(degrees=[-10.0, 10.0], interpolation=nearest, expand=False, fill=0)\n",
       "                ToTensor()\n",
       "            ),\n",
       " Dataset ImageFolder\n",
       "     Number of datapoints: 315\n",
       "     Root location: ../data/curated/test\n",
       "     StandardTransform\n",
       " Transform: Compose(\n",
       "                Resize(size=(224, 224), interpolation=bilinear, max_size=None, antialias=True)\n",
       "                RandomHorizontalFlip(p=0.7)\n",
       "                RandomRotation(degrees=[-10.0, 10.0], interpolation=nearest, expand=False, fill=0)\n",
       "                ToTensor()\n",
       "            ),\n",
       " Dataset ImageFolder\n",
       "     Number of datapoints: 72\n",
       "     Root location: ../data/curated/valid\n",
       "     StandardTransform\n",
       " Transform: Compose(\n",
       "                Resize(size=(224, 224), interpolation=bilinear, max_size=None, antialias=True)\n",
       "                RandomHorizontalFlip(p=0.7)\n",
       "                RandomRotation(degrees=[-10.0, 10.0], interpolation=nearest, expand=False, fill=0)\n",
       "                ToTensor()\n",
       "            ))"
      ]
     },
     "execution_count": 4,
     "metadata": {},
     "output_type": "execute_result"
    }
   ],
   "source": [
    "train_data = datasets.ImageFolder(root='../data/curated/train',\n",
    "                                  transform=data_transform, \n",
    "                                  target_transform=None) \n",
    "\n",
    "test_data = datasets.ImageFolder(root='../data/curated/test',\n",
    "                                 transform=data_transform)\n",
    "\n",
    "\n",
    "validation_data = datasets.ImageFolder(root='../data/curated/valid',\n",
    "                                 transform=data_transform)\n",
    "train_data, test_data ,validation_data"
   ]
  },
  {
   "cell_type": "code",
   "execution_count": 5,
   "metadata": {},
   "outputs": [
    {
     "data": {
      "text/plain": [
       "(tensor([[[0., 0., 0.,  ..., 0., 0., 0.],\n",
       "          [0., 0., 0.,  ..., 0., 0., 0.],\n",
       "          [0., 0., 0.,  ..., 0., 0., 0.],\n",
       "          ...,\n",
       "          [0., 0., 0.,  ..., 0., 0., 0.],\n",
       "          [0., 0., 0.,  ..., 0., 0., 0.],\n",
       "          [0., 0., 0.,  ..., 0., 0., 0.]],\n",
       " \n",
       "         [[0., 0., 0.,  ..., 0., 0., 0.],\n",
       "          [0., 0., 0.,  ..., 0., 0., 0.],\n",
       "          [0., 0., 0.,  ..., 0., 0., 0.],\n",
       "          ...,\n",
       "          [0., 0., 0.,  ..., 0., 0., 0.],\n",
       "          [0., 0., 0.,  ..., 0., 0., 0.],\n",
       "          [0., 0., 0.,  ..., 0., 0., 0.]],\n",
       " \n",
       "         [[0., 0., 0.,  ..., 0., 0., 0.],\n",
       "          [0., 0., 0.,  ..., 0., 0., 0.],\n",
       "          [0., 0., 0.,  ..., 0., 0., 0.],\n",
       "          ...,\n",
       "          [0., 0., 0.,  ..., 0., 0., 0.],\n",
       "          [0., 0., 0.,  ..., 0., 0., 0.],\n",
       "          [0., 0., 0.,  ..., 0., 0., 0.]]]),\n",
       " 0)"
      ]
     },
     "execution_count": 5,
     "metadata": {},
     "output_type": "execute_result"
    }
   ],
   "source": [
    "train_data[np.random.randint(0 , len(train_data))]"
   ]
  },
  {
   "cell_type": "code",
   "execution_count": 6,
   "metadata": {},
   "outputs": [
    {
     "data": {
      "text/plain": [
       "(613, 315)"
      ]
     },
     "execution_count": 6,
     "metadata": {},
     "output_type": "execute_result"
    }
   ],
   "source": [
    "len(train_data)  , len(test_data)"
   ]
  },
  {
   "cell_type": "code",
   "execution_count": 7,
   "metadata": {},
   "outputs": [
    {
     "data": {
      "text/plain": [
       "['adenocarcinoma_left.lower.lobe_T2_N0_M0_Ib',\n",
       " 'large.cell.carcinoma_left.hilum_T2_N2_M0_IIIa',\n",
       " 'normal',\n",
       " 'squamous.cell.carcinoma_left.hilum_T1_N2_M0_IIIa']"
      ]
     },
     "execution_count": 7,
     "metadata": {},
     "output_type": "execute_result"
    }
   ],
   "source": [
    "class_names = train_data.classes\n",
    "class_names"
   ]
  },
  {
   "cell_type": "code",
   "execution_count": 8,
   "metadata": {},
   "outputs": [
    {
     "data": {
      "text/plain": [
       "{'adenocarcinoma_left.lower.lobe_T2_N0_M0_Ib': 0,\n",
       " 'large.cell.carcinoma_left.hilum_T2_N2_M0_IIIa': 1,\n",
       " 'normal': 2,\n",
       " 'squamous.cell.carcinoma_left.hilum_T1_N2_M0_IIIa': 3}"
      ]
     },
     "execution_count": 8,
     "metadata": {},
     "output_type": "execute_result"
    }
   ],
   "source": [
    "class_dict = train_data.class_to_idx\n",
    "class_dict"
   ]
  },
  {
   "cell_type": "code",
   "execution_count": 9,
   "metadata": {},
   "outputs": [
    {
     "name": "stdout",
     "output_type": "stream",
     "text": [
      "{'normal': 2, 'adenocarcinoma_left.lower.lobe': 0, 'large.cell.carcinoma_left.hilum': 1, 'squamous.cell.carcinoma_left.hilum': 3}\n"
     ]
    }
   ],
   "source": [
    "# Change the key\n",
    "old_key1 = 'adenocarcinoma_left.lower.lobe_T2_N0_M0_Ib'\n",
    "new_key1 = 'adenocarcinoma_left.lower.lobe'\n",
    "\n",
    "old_key2 = 'large.cell.carcinoma_left.hilum_T2_N2_M0_IIIa'\n",
    "new_key2 = 'large.cell.carcinoma_left.hilum'\n",
    "\n",
    "old_key3 = 'squamous.cell.carcinoma_left.hilum_T1_N2_M0_IIIa'\n",
    "new_key3 = 'squamous.cell.carcinoma_left.hilum'\n",
    "\n",
    "# Step 1: Add new key-value pair\n",
    "class_dict[new_key1] = class_dict[old_key1]\n",
    "class_dict[new_key2] = class_dict[old_key2]\n",
    "class_dict[new_key3] = class_dict[old_key3]\n",
    "\n",
    "\n",
    "# Step 2: Remove old key-value pair\n",
    "del class_dict[old_key1]\n",
    "del class_dict[old_key2]\n",
    "del class_dict[old_key3]\n",
    "\n",
    "\n",
    "print(class_dict)"
   ]
  },
  {
   "cell_type": "code",
   "execution_count": 10,
   "metadata": {},
   "outputs": [
    {
     "data": {
      "text/plain": [
       "['adenocarcinoma_left.lower.lobe',\n",
       " 'large.cell.carcinoma_left.hilum',\n",
       " 'normal',\n",
       " 'squamous.cell.carcinoma_left.hilum']"
      ]
     },
     "execution_count": 10,
     "metadata": {},
     "output_type": "execute_result"
    }
   ],
   "source": [
    "class_names[0]=new_key1\n",
    "class_names[1]=new_key2\n",
    "class_names[3]=new_key3\n",
    "class_names"
   ]
  },
  {
   "cell_type": "code",
   "execution_count": 11,
   "metadata": {},
   "outputs": [
    {
     "data": {
      "text/plain": [
       "(613, 315)"
      ]
     },
     "execution_count": 11,
     "metadata": {},
     "output_type": "execute_result"
    }
   ],
   "source": [
    "len(train_data), len(test_data)"
   ]
  },
  {
   "cell_type": "code",
   "execution_count": 12,
   "metadata": {},
   "outputs": [
    {
     "name": "stdout",
     "output_type": "stream",
     "text": [
      "Image tensor:\n",
      " tensor([[[0., 0., 0.,  ..., 0., 0., 0.],\n",
      "         [0., 0., 0.,  ..., 0., 0., 0.],\n",
      "         [0., 0., 0.,  ..., 0., 0., 0.],\n",
      "         ...,\n",
      "         [0., 0., 0.,  ..., 0., 0., 0.],\n",
      "         [0., 0., 0.,  ..., 0., 0., 0.],\n",
      "         [0., 0., 0.,  ..., 0., 0., 0.]],\n",
      "\n",
      "        [[0., 0., 0.,  ..., 0., 0., 0.],\n",
      "         [0., 0., 0.,  ..., 0., 0., 0.],\n",
      "         [0., 0., 0.,  ..., 0., 0., 0.],\n",
      "         ...,\n",
      "         [0., 0., 0.,  ..., 0., 0., 0.],\n",
      "         [0., 0., 0.,  ..., 0., 0., 0.],\n",
      "         [0., 0., 0.,  ..., 0., 0., 0.]],\n",
      "\n",
      "        [[0., 0., 0.,  ..., 0., 0., 0.],\n",
      "         [0., 0., 0.,  ..., 0., 0., 0.],\n",
      "         [0., 0., 0.,  ..., 0., 0., 0.],\n",
      "         ...,\n",
      "         [0., 0., 0.,  ..., 0., 0., 0.],\n",
      "         [0., 0., 0.,  ..., 0., 0., 0.],\n",
      "         [0., 0., 0.,  ..., 0., 0., 0.]]])\n",
      "Image shape: torch.Size([3, 224, 224])\n",
      "Image datatype: torch.float32\n",
      "Image label: 3\n",
      "Label datatype: <class 'int'>\n",
      "class name: squamous.cell.carcinoma_left.hilum\n"
     ]
    }
   ],
   "source": [
    "random_idx = torch.randint(0, len(train_data), size=(1,)).item()\n",
    "img, label = train_data[random_idx][0], train_data[random_idx][1]\n",
    "\n",
    "print(f\"Image tensor:\\n {img}\")\n",
    "print(f\"Image shape: {img.shape}\")\n",
    "print(f\"Image datatype: {img.dtype}\")\n",
    "print(f\"Image label: {label}\")\n",
    "print(f\"Label datatype: {type(label)}\")\n",
    "print(f\"class name: {class_names[label]}\")"
   ]
  },
  {
   "cell_type": "code",
   "execution_count": 13,
   "metadata": {},
   "outputs": [
    {
     "name": "stdout",
     "output_type": "stream",
     "text": [
      "Image permute: torch.Size([224, 224, 3]) \n"
     ]
    },
    {
     "data": {
      "text/plain": [
       "Text(0.5, 1.0, 'squamous.cell.carcinoma_left.hilum')"
      ]
     },
     "execution_count": 13,
     "metadata": {},
     "output_type": "execute_result"
    },
    {
     "data": {
      "image/png": "[encoded data removed]",
      "text/plain": [
       "<Figure size 1200x700 with 1 Axes>"
      ]
     },
     "metadata": {},
     "output_type": "display_data"
    }
   ],
   "source": [
    "import random \n",
    "from PIL import Image\n",
    "import matplotlib.pyplot as plt\n",
    "random_idx = torch.randint(0, len(train_data), size=(1,)).item()\n",
    "img, label = train_data[random_idx][0], train_data[random_idx][1]\n",
    "\n",
    "\n",
    "img_permute = img.permute(1, 2, 0)\n",
    "print(f\"Image permute: {img_permute.shape} \")\n",
    "plt.figure(figsize=(12, 7))\n",
    "plt.imshow(img_permute)\n",
    "plt.axis(\"off\")\n",
    "plt.title(class_names[label], fontsize=14)"
   ]
  },
  {
   "cell_type": "code",
   "execution_count": 14,
   "metadata": {},
   "outputs": [
    {
     "data": {
      "text/plain": [
       "(<torch.utils.data.dataloader.DataLoader at 0x7ff22c15ada0>,\n",
       " <torch.utils.data.dataloader.DataLoader at 0x7ff22c159780>)"
      ]
     },
     "execution_count": 14,
     "metadata": {},
     "output_type": "execute_result"
    }
   ],
   "source": [
    "BATCH_SIZE=32\n",
    "train_dataloader = DataLoader(dataset=train_data,\n",
    "                              batch_size=BATCH_SIZE,\n",
    "                              num_workers=1,\n",
    "                              shuffle=True)\n",
    "\n",
    "test_dataloader = DataLoader(dataset=test_data,\n",
    "                             batch_size=BATCH_SIZE,\n",
    "                             num_workers=1,\n",
    "                             shuffle=False)\n",
    "\n",
    "train_dataloader, test_dataloader"
   ]
  },
  {
   "cell_type": "code",
   "execution_count": 15,
   "metadata": {},
   "outputs": [
    {
     "data": {
      "text/plain": [
       "Sequential(\n",
       "  (0): Linear(in_features=512, out_features=512, bias=True)\n",
       "  (1): Dropout(p=0.2, inplace=False)\n",
       "  (2): Linear(in_features=512, out_features=256, bias=True)\n",
       "  (3): Linear(in_features=256, out_features=4, bias=True)\n",
       ")"
      ]
     },
     "execution_count": 15,
     "metadata": {},
     "output_type": "execute_result"
    }
   ],
   "source": [
    "resnet18_model.fc = nn.Sequential (\n",
    "    nn.Linear(512,512),\n",
    "    nn.Dropout(0.2),\n",
    "     nn.Linear(512,256),\n",
    "    nn.Linear(256,len(class_names)), # -> len(labels) labels according to labels\n",
    ")\n",
    "resnet18_model.fc"
   ]
  },
  {
   "cell_type": "code",
   "execution_count": 16,
   "metadata": {},
   "outputs": [],
   "source": [
    "resnet18_model.conv1 = nn.Conv2d(3, 64, kernel_size=(7, 7), stride=(2, 2), padding=(3, 3), bias=False)"
   ]
  },
  {
   "cell_type": "code",
   "execution_count": 17,
   "metadata": {},
   "outputs": [],
   "source": [
    "from torch.optim import lr_scheduler\n",
    "loss_fn = nn.CrossEntropyLoss()\n",
    "optimizer = torch.optim.Adam(resnet18_model.parameters(), lr=0.01)\n",
    "optimizer = torch.optim.SGD(resnet18_model.parameters(), lr=0.01, momentum=0.9)"
   ]
  },
  {
   "cell_type": "code",
   "execution_count": 18,
   "metadata": {},
   "outputs": [
    {
     "data": {
      "text/plain": [
       "==========================================================================================\n",
       "Layer (type:depth-idx)                   Output Shape              Param #\n",
       "==========================================================================================\n",
       "ResNet                                   [1, 4]                    --\n",
       "├─Conv2d: 1-1                            [1, 64, 32, 32]           9,408\n",
       "├─BatchNorm2d: 1-2                       [1, 64, 32, 32]           128\n",
       "├─ReLU: 1-3                              [1, 64, 32, 32]           --\n",
       "├─MaxPool2d: 1-4                         [1, 64, 16, 16]           --\n",
       "├─Sequential: 1-5                        [1, 64, 16, 16]           --\n",
       "│    └─BasicBlock: 2-1                   [1, 64, 16, 16]           --\n",
       "│    │    └─Conv2d: 3-1                  [1, 64, 16, 16]           36,864\n",
       "│    │    └─BatchNorm2d: 3-2             [1, 64, 16, 16]           128\n",
       "│    │    └─ReLU: 3-3                    [1, 64, 16, 16]           --\n",
       "│    │    └─Conv2d: 3-4                  [1, 64, 16, 16]           36,864\n",
       "│    │    └─BatchNorm2d: 3-5             [1, 64, 16, 16]           128\n",
       "│    │    └─ReLU: 3-6                    [1, 64, 16, 16]           --\n",
       "│    └─BasicBlock: 2-2                   [1, 64, 16, 16]           --\n",
       "│    │    └─Conv2d: 3-7                  [1, 64, 16, 16]           36,864\n",
       "│    │    └─BatchNorm2d: 3-8             [1, 64, 16, 16]           128\n",
       "│    │    └─ReLU: 3-9                    [1, 64, 16, 16]           --\n",
       "│    │    └─Conv2d: 3-10                 [1, 64, 16, 16]           36,864\n",
       "│    │    └─BatchNorm2d: 3-11            [1, 64, 16, 16]           128\n",
       "│    │    └─ReLU: 3-12                   [1, 64, 16, 16]           --\n",
       "├─Sequential: 1-6                        [1, 128, 8, 8]            --\n",
       "│    └─BasicBlock: 2-3                   [1, 128, 8, 8]            --\n",
       "│    │    └─Conv2d: 3-13                 [1, 128, 8, 8]            73,728\n",
       "│    │    └─BatchNorm2d: 3-14            [1, 128, 8, 8]            256\n",
       "│    │    └─ReLU: 3-15                   [1, 128, 8, 8]            --\n",
       "│    │    └─Conv2d: 3-16                 [1, 128, 8, 8]            147,456\n",
       "│    │    └─BatchNorm2d: 3-17            [1, 128, 8, 8]            256\n",
       "│    │    └─Sequential: 3-18             [1, 128, 8, 8]            8,448\n",
       "│    │    └─ReLU: 3-19                   [1, 128, 8, 8]            --\n",
       "│    └─BasicBlock: 2-4                   [1, 128, 8, 8]            --\n",
       "│    │    └─Conv2d: 3-20                 [1, 128, 8, 8]            147,456\n",
       "│    │    └─BatchNorm2d: 3-21            [1, 128, 8, 8]            256\n",
       "│    │    └─ReLU: 3-22                   [1, 128, 8, 8]            --\n",
       "│    │    └─Conv2d: 3-23                 [1, 128, 8, 8]            147,456\n",
       "│    │    └─BatchNorm2d: 3-24            [1, 128, 8, 8]            256\n",
       "│    │    └─ReLU: 3-25                   [1, 128, 8, 8]            --\n",
       "├─Sequential: 1-7                        [1, 256, 4, 4]            --\n",
       "│    └─BasicBlock: 2-5                   [1, 256, 4, 4]            --\n",
       "│    │    └─Conv2d: 3-26                 [1, 256, 4, 4]            294,912\n",
       "│    │    └─BatchNorm2d: 3-27            [1, 256, 4, 4]            512\n",
       "│    │    └─ReLU: 3-28                   [1, 256, 4, 4]            --\n",
       "│    │    └─Conv2d: 3-29                 [1, 256, 4, 4]            589,824\n",
       "│    │    └─BatchNorm2d: 3-30            [1, 256, 4, 4]            512\n",
       "│    │    └─Sequential: 3-31             [1, 256, 4, 4]            33,280\n",
       "│    │    └─ReLU: 3-32                   [1, 256, 4, 4]            --\n",
       "│    └─BasicBlock: 2-6                   [1, 256, 4, 4]            --\n",
       "│    │    └─Conv2d: 3-33                 [1, 256, 4, 4]            589,824\n",
       "│    │    └─BatchNorm2d: 3-34            [1, 256, 4, 4]            512\n",
       "│    │    └─ReLU: 3-35                   [1, 256, 4, 4]            --\n",
       "│    │    └─Conv2d: 3-36                 [1, 256, 4, 4]            589,824\n",
       "│    │    └─BatchNorm2d: 3-37            [1, 256, 4, 4]            512\n",
       "│    │    └─ReLU: 3-38                   [1, 256, 4, 4]            --\n",
       "├─Sequential: 1-8                        [1, 512, 2, 2]            --\n",
       "│    └─BasicBlock: 2-7                   [1, 512, 2, 2]            --\n",
       "│    │    └─Conv2d: 3-39                 [1, 512, 2, 2]            1,179,648\n",
       "│    │    └─BatchNorm2d: 3-40            [1, 512, 2, 2]            1,024\n",
       "│    │    └─ReLU: 3-41                   [1, 512, 2, 2]            --\n",
       "│    │    └─Conv2d: 3-42                 [1, 512, 2, 2]            2,359,296\n",
       "│    │    └─BatchNorm2d: 3-43            [1, 512, 2, 2]            1,024\n",
       "│    │    └─Sequential: 3-44             [1, 512, 2, 2]            132,096\n",
       "│    │    └─ReLU: 3-45                   [1, 512, 2, 2]            --\n",
       "│    └─BasicBlock: 2-8                   [1, 512, 2, 2]            --\n",
       "│    │    └─Conv2d: 3-46                 [1, 512, 2, 2]            2,359,296\n",
       "│    │    └─BatchNorm2d: 3-47            [1, 512, 2, 2]            1,024\n",
       "│    │    └─ReLU: 3-48                   [1, 512, 2, 2]            --\n",
       "│    │    └─Conv2d: 3-49                 [1, 512, 2, 2]            2,359,296\n",
       "│    │    └─BatchNorm2d: 3-50            [1, 512, 2, 2]            1,024\n",
       "│    │    └─ReLU: 3-51                   [1, 512, 2, 2]            --\n",
       "├─AdaptiveAvgPool2d: 1-9                 [1, 512, 1, 1]            --\n",
       "├─Sequential: 1-10                       [1, 4]                    --\n",
       "│    └─Linear: 2-9                       [1, 512]                  262,656\n",
       "│    └─Dropout: 2-10                     [1, 512]                  --\n",
       "│    └─Linear: 2-11                      [1, 256]                  131,328\n",
       "│    └─Linear: 2-12                      [1, 4]                    1,028\n",
       "==========================================================================================\n",
       "Total params: 11,571,524\n",
       "Trainable params: 11,571,524\n",
       "Non-trainable params: 0\n",
       "Total mult-adds (M): 148.45\n",
       "==========================================================================================\n",
       "Input size (MB): 0.05\n",
       "Forward/backward pass size (MB): 3.25\n",
       "Params size (MB): 46.29\n",
       "Estimated Total Size (MB): 49.59\n",
       "=========================================================================================="
      ]
     },
     "execution_count": 18,
     "metadata": {},
     "output_type": "execute_result"
    }
   ],
   "source": [
    "from torchinfo import summary\n",
    "summary(resnet18_model, input_size=[1, 3, 64, 64])"
   ]
  },
  {
   "cell_type": "code",
   "execution_count": 19,
   "metadata": {},
   "outputs": [],
   "source": [
    "def train_step(model: torch.nn.Module,\n",
    "               dataloader: torch.utils.data.DataLoader,\n",
    "               loss_fn: torch.nn.Module,\n",
    "               optimizer:torch.optim.Optimizer,\n",
    "               device=device):\n",
    "  model.train()\n",
    "\n",
    "  train_loss, train_acc = 0, 0\n",
    "\n",
    "  for batch, (X, y) in enumerate(dataloader):\n",
    "    X, y = X.to(device), y.to(device)\n",
    "\n",
    "    y_pred = model(X) \n",
    "\n",
    "\n",
    "    loss = loss_fn(y_pred, y)\n",
    "    train_loss += loss.item()\n",
    "\n",
    "  \n",
    "    optimizer.zero_grad()\n",
    "\n",
    "    \n",
    "    loss.backward()\n",
    "\n",
    "  \n",
    "    optimizer.step()\n",
    "\n",
    "    # Calculate accuracy metric\n",
    "    y_pred_class = torch.argmax(torch.softmax(y_pred, dim=1), dim=1)\n",
    "    train_acc += (y_pred_class==y).sum().item()/len(y_pred)\n",
    "  \n",
    "  # Adjust metrics to get average loss and accuracy per batch\n",
    "  train_loss = train_loss / len(dataloader)\n",
    "  train_acc = train_acc / len(dataloader) \n",
    "  return train_loss, train_acc"
   ]
  },
  {
   "cell_type": "code",
   "execution_count": 20,
   "metadata": {},
   "outputs": [],
   "source": [
    "def test_step(model: torch.nn.Module,\n",
    "              dataloader: torch.utils.data.DataLoader,\n",
    "              loss_fn: torch.nn.Module,\n",
    "              device=device):\n",
    "  model.eval()\n",
    "\n",
    "  test_loss, test_acc = 0,  0\n",
    "\n",
    "  with torch.inference_mode():\n",
    "    for batch, (X, y) in enumerate(dataloader): \n",
    "      X, y = X.to(device), y.to(device)\n",
    "\n",
    "      test_pred_logits = model(X)\n",
    "\n",
    "     \n",
    "      loss = loss_fn(test_pred_logits, y)\n",
    "      test_loss += loss.item()\n",
    "\n",
    "    \n",
    "      test_pred_labels = test_pred_logits.argmax(dim=1)\n",
    "      test_acc += ((test_pred_labels == y).sum().item()/len(test_pred_labels))\n",
    "\n",
    "  # Adjust metrics to get average loss and accuracy per batch\n",
    "  test_loss = test_loss / len(dataloader)\n",
    "  test_acc = test_acc / len(dataloader)\n",
    "  return test_loss, test_acc"
   ]
  },
  {
   "cell_type": "code",
   "execution_count": 21,
   "metadata": {},
   "outputs": [],
   "source": [
    "from tqdm.auto import tqdm\n",
    "\n",
    "def train(model: torch.nn.Module,\n",
    "          train_dataloader,\n",
    "          test_dataloader,\n",
    "          optimizer,\n",
    "          loss_fn: torch.nn.Module = nn.CrossEntropyLoss(),\n",
    "          epochs: int = 5, \n",
    "          device=device):\n",
    "  \n",
    "  results = {\"train_loss\": [],\n",
    "             \"train_acc\": [],\n",
    "             \"test_loss\": [],\n",
    "             \"test_acc\": []}\n",
    "  \n",
    "  for epoch in tqdm(range(epochs)):\n",
    "    train_loss, train_acc = train_step(model=model,\n",
    "                                       dataloader=train_dataloader,\n",
    "                                       loss_fn=loss_fn,\n",
    "                                       optimizer=optimizer,\n",
    "                                       device=device)\n",
    "    test_loss, test_acc = test_step(model=model,\n",
    "                                    dataloader=test_dataloader,\n",
    "                                    loss_fn=loss_fn,\n",
    "                                    device=device)\n",
    "    \n",
    "    print(f\"Epoch: {epoch} | Train loss: {train_loss:.4f} | Train acc: {train_acc:.4f} | Test loss: {test_loss:.4f} | Test acc: {test_acc:.4f}\")\n",
    "\n",
    "    results[\"train_loss\"].append(train_loss)\n",
    "    results[\"train_acc\"].append(train_acc)\n",
    "    results[\"test_loss\"].append(test_loss)\n",
    "    results[\"test_acc\"].append(test_acc)\n",
    "  \n",
    "  return results"
   ]
  },
  {
   "cell_type": "code",
   "execution_count": 22,
   "metadata": {},
   "outputs": [
    {
     "data": {
      "application/vnd.jupyter.widget-view+json": {
       "model_id": "70efb5a6f3d74bed9c1c57197c45e5ce",
       "version_major": 2,
       "version_minor": 0
      },
      "text/plain": [
       "  0%|          | 0/15 [00:00<?, ?it/s]"
      ]
     },
     "metadata": {},
     "output_type": "display_data"
    },
    {
     "name": "stdout",
     "output_type": "stream",
     "text": [
      "Epoch: 0 | Train loss: 1.0995 | Train acc: 0.4769 | Test loss: 1.6646 | Test acc: 0.3517\n",
      "Epoch: 1 | Train loss: 0.6624 | Train acc: 0.7103 | Test loss: 0.9469 | Test acc: 0.5618\n",
      "Epoch: 2 | Train loss: 0.4904 | Train acc: 0.8134 | Test loss: 1.3481 | Test acc: 0.5762\n",
      "Epoch: 3 | Train loss: 0.5611 | Train acc: 0.7841 | Test loss: 1.0991 | Test acc: 0.5478\n",
      "Epoch: 4 | Train loss: 0.4811 | Train acc: 0.8144 | Test loss: 0.7143 | Test acc: 0.6757\n",
      "Epoch: 5 | Train loss: 0.3507 | Train acc: 0.8750 | Test loss: 0.8686 | Test acc: 0.6343\n",
      "Epoch: 6 | Train loss: 0.3127 | Train acc: 0.8941 | Test loss: 0.9295 | Test acc: 0.6183\n",
      "Epoch: 7 | Train loss: 0.4082 | Train acc: 0.8463 | Test loss: 1.1104 | Test acc: 0.6156\n",
      "Epoch: 8 | Train loss: 0.2294 | Train acc: 0.9187 | Test loss: 0.9524 | Test acc: 0.7388\n",
      "Epoch: 9 | Train loss: 0.3716 | Train acc: 0.8934 | Test loss: 1.3239 | Test acc: 0.6027\n",
      "Epoch: 10 | Train loss: 0.4516 | Train acc: 0.8291 | Test loss: 0.8722 | Test acc: 0.7027\n",
      "Epoch: 11 | Train loss: 0.2206 | Train acc: 0.9297 | Test loss: 1.3957 | Test acc: 0.5737\n",
      "Epoch: 12 | Train loss: 0.1897 | Train acc: 0.9375 | Test loss: 1.0167 | Test acc: 0.7308\n",
      "Epoch: 13 | Train loss: 0.1677 | Train acc: 0.9356 | Test loss: 0.4534 | Test acc: 0.8420\n",
      "Epoch: 14 | Train loss: 0.2264 | Train acc: 0.9097 | Test loss: 0.9476 | Test acc: 0.6544\n",
      "Total training time: 143.464 seconds\n"
     ]
    }
   ],
   "source": [
    "NUM_EPOCHS = 15\n",
    "\n",
    "\n",
    "# Start the timer\n",
    "from timeit import default_timer as timer\n",
    "start_time = timer() \n",
    "\n",
    "model_0_results = train(model=resnet18_model,\n",
    "                        train_dataloader=train_dataloader,\n",
    "                        test_dataloader=test_dataloader,\n",
    "                        optimizer=optimizer,\n",
    "                        loss_fn=loss_fn,\n",
    "                        epochs=NUM_EPOCHS)\n",
    "\n",
    "# End the timer and print out how long it took\n",
    "end_time = timer()\n",
    "print(f\"Total training time: {end_time-start_time:.3f} seconds\")"
   ]
  },
  {
   "cell_type": "code",
   "execution_count": 24,
   "metadata": {},
   "outputs": [
    {
     "ename": "ValueError",
     "evalue": "zero-dimensional arrays cannot be concatenated",
     "output_type": "error",
     "traceback": [
      "\u001b[0;31m---------------------------------------------------------------------------\u001b[0m",
      "\u001b[0;31mValueError\u001b[0m                                Traceback (most recent call last)",
      "Cell \u001b[0;32mIn[24], line 2\u001b[0m\n\u001b[1;32m      1\u001b[0m \u001b[38;5;66;03m# Get true labels from the validation dataset\u001b[39;00m\n\u001b[0;32m----> 2\u001b[0m true_labels \u001b[38;5;241m=\u001b[39m \u001b[43mnp\u001b[49m\u001b[38;5;241;43m.\u001b[39;49m\u001b[43mconcatenate\u001b[49m\u001b[43m(\u001b[49m\u001b[43m[\u001b[49m\u001b[43my\u001b[49m\u001b[43m \u001b[49m\u001b[38;5;28;43;01mfor\u001b[39;49;00m\u001b[43m \u001b[49m\u001b[43mx\u001b[49m\u001b[43m,\u001b[49m\u001b[43m \u001b[49m\u001b[43my\u001b[49m\u001b[43m \u001b[49m\u001b[38;5;129;43;01min\u001b[39;49;00m\u001b[43m \u001b[49m\u001b[43mvalidation_data\u001b[49m\u001b[43m]\u001b[49m\u001b[43m,\u001b[49m\u001b[43m \u001b[49m\u001b[43maxis\u001b[49m\u001b[38;5;241;43m=\u001b[39;49m\u001b[38;5;241;43m0\u001b[39;49m\u001b[43m)\u001b[49m\n\u001b[1;32m      3\u001b[0m true_classes \u001b[38;5;241m=\u001b[39m np\u001b[38;5;241m.\u001b[39margmax(true_labels, axis\u001b[38;5;241m=\u001b[39m\u001b[38;5;241m1\u001b[39m)\n",
      "\u001b[0;31mValueError\u001b[0m: zero-dimensional arrays cannot be concatenated"
     ]
    },
    {
     "ename": "",
     "evalue": "",
     "output_type": "error",
     "traceback": [
      "\u001b[1;31mThe Kernel crashed while executing code in the current cell or a previous cell. \n",
      "\u001b[1;31mPlease review the code in the cell(s) to identify a possible cause of the failure. \n",
      "\u001b[1;31mClick <a href='https://aka.ms/vscodeJupyterKernelCrash'>here</a> for more info. \n",
      "\u001b[1;31mView Jupyter <a href='command:jupyter.viewOutput'>log</a> for further details."
     ]
    }
   ],
   "source": [
    "# Get true labels from the validation dataset\n",
    "true_labels = np.concatenate([y for x, y in validation_data], axis=0)\n",
    "true_classes = np.argmax(true_labels, axis=1)\n"
   ]
  }
 ],
 "metadata": {
  "kernelspec": {
   "display_name": "Python 3",
   "language": "python",
   "name": "python3"
  },
  "language_info": {
   "codemirror_mode": {
    "name": "ipython",
    "version": 3
   },
   "file_extension": ".py",
   "mimetype": "text/x-python",
   "name": "python",
   "nbconvert_exporter": "python",
   "pygments_lexer": "ipython3",
   "version": "3.10.12"
  }
 },
 "nbformat": 4,
 "nbformat_minor": 2
}
